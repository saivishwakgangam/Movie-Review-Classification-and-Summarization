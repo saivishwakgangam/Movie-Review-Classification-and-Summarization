{
  "nbformat": 4,
  "nbformat_minor": 0,
  "metadata": {
    "colab": {
      "name": "MovieReviewSummarization_local.ipynb",
      "provenance": [],
      "collapsed_sections": [
        "gMbReDafoLTE"
      ]
    },
    "kernelspec": {
      "name": "python3",
      "display_name": "Python 3"
    },
    "language_info": {
      "name": "python"
    }
  },
  "cells": [
    {
      "cell_type": "markdown",
      "metadata": {
        "id": "Zc8i5IqNjMW6"
      },
      "source": [
        "### LOADING LIBRARIES"
      ]
    },
    {
      "cell_type": "code",
      "metadata": {
        "colab": {
          "base_uri": "https://localhost:8080/"
        },
        "id": "FY_jI-EojQAh",
        "outputId": "f4f3edc2-3eb4-43d4-c02f-ff5c5268adca"
      },
      "source": [
        "import nltk\n",
        "import pandas as pd\n",
        "import numpy as np\n",
        "import re \n",
        "from nltk.corpus import stopwords\n",
        "from nltk.tokenize import word_tokenize\n",
        "nltk.download('stopwords')\n",
        "nltk.download('punkt')\n",
        "nltk.download('wordnet')\n",
        "from nltk.stem import LancasterStemmer"
      ],
      "execution_count": 113,
      "outputs": [
        {
          "output_type": "stream",
          "text": [
            "[nltk_data] Downloading package stopwords to /root/nltk_data...\n",
            "[nltk_data]   Package stopwords is already up-to-date!\n",
            "[nltk_data] Downloading package punkt to /root/nltk_data...\n",
            "[nltk_data]   Package punkt is already up-to-date!\n",
            "[nltk_data] Downloading package wordnet to /root/nltk_data...\n",
            "[nltk_data]   Package wordnet is already up-to-date!\n"
          ],
          "name": "stdout"
        }
      ]
    },
    {
      "cell_type": "markdown",
      "metadata": {
        "id": "wZcfYg3bjclG"
      },
      "source": [
        "### LOADING DATASET"
      ]
    },
    {
      "cell_type": "code",
      "metadata": {
        "id": "AfqZr7Pfjg-u"
      },
      "source": [
        "from pydrive.auth import GoogleAuth\n",
        "from pydrive.drive import GoogleDrive\n",
        "from google.colab import auth\n",
        "from oauth2client.client import GoogleCredentials# Authenticate and create the PyDrive client.\n",
        "auth.authenticate_user()\n",
        "gauth = GoogleAuth()\n",
        "gauth.credentials = GoogleCredentials.get_application_default()\n",
        "drive = GoogleDrive(gauth)"
      ],
      "execution_count": 114,
      "outputs": []
    },
    {
      "cell_type": "code",
      "metadata": {
        "id": "u9eHu2_QjuM0"
      },
      "source": [
        "link='https://drive.google.com/file/d/1cylRRMnYHQaEiUl1OTPKsXvpXCZPpb5d/view?usp=sharing'"
      ],
      "execution_count": 115,
      "outputs": []
    },
    {
      "cell_type": "code",
      "metadata": {
        "id": "_AIHOuTokKMw"
      },
      "source": [
        "id='1cylRRMnYHQaEiUl1OTPKsXvpXCZPpb5d'"
      ],
      "execution_count": 116,
      "outputs": []
    },
    {
      "cell_type": "code",
      "metadata": {
        "id": "ogtdGR7Bj4Nb",
        "colab": {
          "base_uri": "https://localhost:8080/"
        },
        "outputId": "0359943a-a1dd-4cba-9685-c24a68bdd243"
      },
      "source": [
        "downloaded = drive.CreateFile({'id':id}) \n",
        "downloaded.GetContentFile('IMDB Dataset.csv')  \n",
        "df = pd.read_csv('IMDB Dataset.csv')"
      ],
      "execution_count": 117,
      "outputs": [
        {
          "output_type": "stream",
          "text": [
            "WARNING:googleapiclient.discovery_cache:file_cache is unavailable when using oauth2client >= 4.0.0 or google-auth\n",
            "Traceback (most recent call last):\n",
            "  File \"/usr/local/lib/python3.7/dist-packages/googleapiclient/discovery_cache/file_cache.py\", line 33, in <module>\n",
            "    from oauth2client.contrib.locked_file import LockedFile\n",
            "ModuleNotFoundError: No module named 'oauth2client.contrib.locked_file'\n",
            "\n",
            "During handling of the above exception, another exception occurred:\n",
            "\n",
            "Traceback (most recent call last):\n",
            "  File \"/usr/local/lib/python3.7/dist-packages/googleapiclient/discovery_cache/file_cache.py\", line 37, in <module>\n",
            "    from oauth2client.locked_file import LockedFile\n",
            "ModuleNotFoundError: No module named 'oauth2client.locked_file'\n",
            "\n",
            "During handling of the above exception, another exception occurred:\n",
            "\n",
            "Traceback (most recent call last):\n",
            "  File \"/usr/local/lib/python3.7/dist-packages/googleapiclient/discovery_cache/__init__.py\", line 44, in autodetect\n",
            "    from . import file_cache\n",
            "  File \"/usr/local/lib/python3.7/dist-packages/googleapiclient/discovery_cache/file_cache.py\", line 41, in <module>\n",
            "    \"file_cache is unavailable when using oauth2client >= 4.0.0 or google-auth\"\n",
            "ImportError: file_cache is unavailable when using oauth2client >= 4.0.0 or google-auth\n"
          ],
          "name": "stderr"
        }
      ]
    },
    {
      "cell_type": "code",
      "metadata": {
        "colab": {
          "base_uri": "https://localhost:8080/",
          "height": 363
        },
        "id": "vllyD0YykUDE",
        "outputId": "0e714925-d590-44a2-86e9-ebf72d0bf10d"
      },
      "source": [
        "df.head(10)"
      ],
      "execution_count": 118,
      "outputs": [
        {
          "output_type": "execute_result",
          "data": {
            "text/html": [
              "<div>\n",
              "<style scoped>\n",
              "    .dataframe tbody tr th:only-of-type {\n",
              "        vertical-align: middle;\n",
              "    }\n",
              "\n",
              "    .dataframe tbody tr th {\n",
              "        vertical-align: top;\n",
              "    }\n",
              "\n",
              "    .dataframe thead th {\n",
              "        text-align: right;\n",
              "    }\n",
              "</style>\n",
              "<table border=\"1\" class=\"dataframe\">\n",
              "  <thead>\n",
              "    <tr style=\"text-align: right;\">\n",
              "      <th></th>\n",
              "      <th>review</th>\n",
              "      <th>sentiment</th>\n",
              "    </tr>\n",
              "  </thead>\n",
              "  <tbody>\n",
              "    <tr>\n",
              "      <th>0</th>\n",
              "      <td>One of the other reviewers has mentioned that ...</td>\n",
              "      <td>positive</td>\n",
              "    </tr>\n",
              "    <tr>\n",
              "      <th>1</th>\n",
              "      <td>A wonderful little production. &lt;br /&gt;&lt;br /&gt;The...</td>\n",
              "      <td>positive</td>\n",
              "    </tr>\n",
              "    <tr>\n",
              "      <th>2</th>\n",
              "      <td>I thought this was a wonderful way to spend ti...</td>\n",
              "      <td>positive</td>\n",
              "    </tr>\n",
              "    <tr>\n",
              "      <th>3</th>\n",
              "      <td>Basically there's a family where a little boy ...</td>\n",
              "      <td>negative</td>\n",
              "    </tr>\n",
              "    <tr>\n",
              "      <th>4</th>\n",
              "      <td>Petter Mattei's \"Love in the Time of Money\" is...</td>\n",
              "      <td>positive</td>\n",
              "    </tr>\n",
              "    <tr>\n",
              "      <th>5</th>\n",
              "      <td>Probably my all-time favorite movie, a story o...</td>\n",
              "      <td>positive</td>\n",
              "    </tr>\n",
              "    <tr>\n",
              "      <th>6</th>\n",
              "      <td>I sure would like to see a resurrection of a u...</td>\n",
              "      <td>positive</td>\n",
              "    </tr>\n",
              "    <tr>\n",
              "      <th>7</th>\n",
              "      <td>This show was an amazing, fresh &amp; innovative i...</td>\n",
              "      <td>negative</td>\n",
              "    </tr>\n",
              "    <tr>\n",
              "      <th>8</th>\n",
              "      <td>Encouraged by the positive comments about this...</td>\n",
              "      <td>negative</td>\n",
              "    </tr>\n",
              "    <tr>\n",
              "      <th>9</th>\n",
              "      <td>If you like original gut wrenching laughter yo...</td>\n",
              "      <td>positive</td>\n",
              "    </tr>\n",
              "  </tbody>\n",
              "</table>\n",
              "</div>"
            ],
            "text/plain": [
              "                                              review sentiment\n",
              "0  One of the other reviewers has mentioned that ...  positive\n",
              "1  A wonderful little production. <br /><br />The...  positive\n",
              "2  I thought this was a wonderful way to spend ti...  positive\n",
              "3  Basically there's a family where a little boy ...  negative\n",
              "4  Petter Mattei's \"Love in the Time of Money\" is...  positive\n",
              "5  Probably my all-time favorite movie, a story o...  positive\n",
              "6  I sure would like to see a resurrection of a u...  positive\n",
              "7  This show was an amazing, fresh & innovative i...  negative\n",
              "8  Encouraged by the positive comments about this...  negative\n",
              "9  If you like original gut wrenching laughter yo...  positive"
            ]
          },
          "metadata": {
            "tags": []
          },
          "execution_count": 118
        }
      ]
    },
    {
      "cell_type": "markdown",
      "metadata": {
        "id": "-MkV9PNck1oj"
      },
      "source": [
        "### DATA PREPROCESSING"
      ]
    },
    {
      "cell_type": "code",
      "metadata": {
        "id": "CWCyN2zQ0ZLK"
      },
      "source": [
        "def datapreprocessing(data,length):\n",
        "  stop_words = set(stopwords.words('english'))\n",
        "  lemmatizer = nltk.stem.WordNetLemmatizer()\n",
        "  lancaster=LancasterStemmer()\n",
        "  processed_review = []\n",
        "  single_review = \"\"\n",
        "  reviews = df.review\n",
        "  for review in range(0,length):\n",
        "      single_review = data[review]\n",
        "      #removing html tags:\n",
        "      single_review = re.sub('<.*?>',' ',single_review)\n",
        "      #removing special characters (punctuation) '@,!' e.t.c.\n",
        "      single_review = re.sub('\\W',' ',single_review)\n",
        "      #removing single characters\n",
        "      single_review = re.sub('\\s+[a-zA-Z]\\s+',' ', single_review)\n",
        "      #substituting multiple spaces with single space\n",
        "      single_review = re.sub('\\s+',' ', single_review)\n",
        "      #removing stop words\n",
        "      #single_review=single_review.lower()\n",
        "      #word_tokens = []\n",
        "      word_tokens = word_tokenize(single_review)\n",
        "      #lemmatization\n",
        "      #print(stop_words)\n",
        "      #print(word_tokens)\n",
        "      lemmatized_sentence = \" \".join(lemmatizer.lemmatize(token) for token in word_tokens if token not in stop_words)\n",
        "      lemmatized_sentence=lemmatized_sentence.split(\" \")\n",
        "      #print(lemmatized_sentence)\n",
        "      #filtered_sentence = []\n",
        "      #filtered_sentence.append([w for w in lemmatized_sentence if w not in stop_words])\n",
        "      filtered_sentence2 = \" \".join([lancaster.stem(w) for w in lemmatized_sentence if w not in stop_words])\n",
        "      #print(filtered_sentence2)\n",
        "      \n",
        "      #compile all the sentences to make a complete dictionary of processed reviews\n",
        "      processed_review.append(filtered_sentence2)\n",
        "  \n",
        "  return processed_review\n",
        "    "
      ],
      "execution_count": 119,
      "outputs": []
    },
    {
      "cell_type": "markdown",
      "metadata": {
        "id": "E8mREOEaHxom"
      },
      "source": [
        "### TF-IDF"
      ]
    },
    {
      "cell_type": "code",
      "metadata": {
        "id": "1wuDSdX9v3bc"
      },
      "source": [
        "#multinomial naive bayes\n",
        "import sklearn\n",
        "from sklearn.feature_extraction.text import TfidfVectorizer\n",
        "def vectorize_train(data):\n",
        "  tfidf=TfidfVectorizer(min_df=2,max_df=0.5,ngram_range=(1,2))\n",
        "  text_count_matrix=tfidf.fit_transform(data)\n",
        "  return text_count_matrix, tfidf"
      ],
      "execution_count": 120,
      "outputs": []
    },
    {
      "cell_type": "code",
      "metadata": {
        "id": "gfQONJoTaCE3"
      },
      "source": [
        "def vectorize_test(tfidf,test_data):\n",
        "  test_matrix=tfidf.transform(test_data)\n",
        "  return test_matrix"
      ],
      "execution_count": 121,
      "outputs": []
    },
    {
      "cell_type": "markdown",
      "metadata": {
        "id": "M7rpuJuuH40S"
      },
      "source": [
        "### Splitting The Data into Train and Test(70:30)"
      ]
    },
    {
      "cell_type": "code",
      "metadata": {
        "id": "TfsCufoMmE9B"
      },
      "source": [
        "reviews=np.array(df.review)"
      ],
      "execution_count": 122,
      "outputs": []
    },
    {
      "cell_type": "code",
      "metadata": {
        "id": "SMdFJsZPdq_e"
      },
      "source": [
        "processed_review=datapreprocessing(reviews,reviews.shape[0])\n",
        "#vector_matrix=vectorize(processed_review)"
      ],
      "execution_count": 123,
      "outputs": []
    },
    {
      "cell_type": "code",
      "metadata": {
        "id": "Q6RcqZyyv-TD"
      },
      "source": [
        "#summarization\n",
        "from sklearn.model_selection import train_test_split\n",
        "x_train, x_test, y_train, y_test = train_test_split(processed_review, df.sentiment, test_size=0.30, random_state=2)\n",
        "train_vector,tfidf=vectorize_train(x_train)\n",
        "test_vector=vectorize_test(tfidf,x_test)\n",
        "y_train = (y_train.replace({'positive': 1, 'negative': 0})).values\n",
        "y_test = (y_test.replace({'positive': 1, 'negative': 0})).values\n"
      ],
      "execution_count": 124,
      "outputs": []
    },
    {
      "cell_type": "code",
      "metadata": {
        "colab": {
          "base_uri": "https://localhost:8080/"
        },
        "id": "3Ei0mUpIRXpT",
        "outputId": "5a356c6d-7f37-4053-d9b8-9c138252400e"
      },
      "source": [
        "print(train_vector.shape)\n",
        "print(test_vector.shape)"
      ],
      "execution_count": 125,
      "outputs": [
        {
          "output_type": "stream",
          "text": [
            "(35000, 513677)\n",
            "(15000, 513677)\n"
          ],
          "name": "stdout"
        }
      ]
    },
    {
      "cell_type": "markdown",
      "metadata": {
        "id": "4e4iI7qZIBsc"
      },
      "source": [
        "### MultiNomial Naive Bayes"
      ]
    },
    {
      "cell_type": "markdown",
      "metadata": {
        "id": "BDeuyupxUd7q"
      },
      "source": [
        "**K fold**"
      ]
    },
    {
      "cell_type": "code",
      "metadata": {
        "id": "-MRtxVJpUco0"
      },
      "source": [
        "from sklearn.model_selection import KFold\n",
        "from sklearn.naive_bayes import MultinomialNB \n",
        "from sklearn import metrics\n",
        "k_fold=KFold(n_splits=10,shuffle=True)\n",
        "scores_list=[]\n",
        "models_list=[]\n",
        "x=train_vector\n",
        "y=y_train\n",
        "max_found=False\n",
        "max_accuracy_score=None\n",
        "model_highest=None\n",
        "for i in range(10):\n",
        "  result=next(k_fold.split(x),None)\n",
        "  x_train1=x[result[0]]\n",
        "  #print(x_train.shape)\n",
        "  x_test1=x[result[1]]\n",
        "  #print(x_test.shape)\n",
        "  #print(y.shape)\n",
        "  #print(max(result[0]))\n",
        "  y_train1=y[result[0]]\n",
        "\n",
        "  y_test1=y[result[1]]\n",
        "  MNB = MultinomialNB()\n",
        "  MNB.fit(x_train1, y_train1)\n",
        "  predict=MNB.predict(x_test1)\n",
        "  accuracy_score = metrics.accuracy_score(predict, y_test1)\n",
        "  if(max_found==False or accuracy_score>max_accuracy_score):\n",
        "    min_found=True\n",
        "    min_accuracy_score=accuracy_score\n",
        "    model_highest=MNB"
      ],
      "execution_count": 126,
      "outputs": []
    },
    {
      "cell_type": "code",
      "metadata": {
        "colab": {
          "base_uri": "https://localhost:8080/"
        },
        "id": "9kX6BkoVXr1d",
        "outputId": "d64b1768-0d1c-494b-ab34-53130e8d5c7c"
      },
      "source": [
        "from sklearn import metrics\n",
        "predict=model_highest.predict(test_vector)\n",
        "accuracy_score = metrics.accuracy_score(predict, y_test)\n",
        "print(accuracy_score)"
      ],
      "execution_count": 127,
      "outputs": [
        {
          "output_type": "stream",
          "text": [
            "0.886\n"
          ],
          "name": "stdout"
        }
      ]
    },
    {
      "cell_type": "markdown",
      "metadata": {
        "id": "PLRjh7W_l0l3"
      },
      "source": [
        "## MOVIE REVIEW SUMMARIZATION"
      ]
    },
    {
      "cell_type": "code",
      "metadata": {
        "id": "lqh6LQLdBhxv"
      },
      "source": [
        "import tensorflow as tf\n",
        "import tensorflow_hub as hub\n",
        "import numpy as np\n",
        "from scipy.spatial.distance import cosine\n",
        "from itertools import chain"
      ],
      "execution_count": 128,
      "outputs": []
    },
    {
      "cell_type": "markdown",
      "metadata": {
        "id": "JYHMpPWfpWeh"
      },
      "source": [
        "### SPLITTING TEST DATA INTO POSITIVE REVIEWS AND NEGATIVE REVIEWS"
      ]
    },
    {
      "cell_type": "code",
      "metadata": {
        "id": "yAwqzDXWpdvh"
      },
      "source": [
        "new_x_train, new_x_test, new_y_train, new_y_test = train_test_split(df.review, df.sentiment, test_size=0.30, random_state=2)\n",
        "#divided_review=np.split(summary_test, np.where(np.diff(predicted_value[:,]))[0]+1)\n",
        "divided_review = [new_x_test[predict[:,]==k] for k in np.unique(predict[:,])]"
      ],
      "execution_count": 129,
      "outputs": []
    },
    {
      "cell_type": "code",
      "metadata": {
        "id": "OlHLB7xE08Rt"
      },
      "source": [
        "negative_reviews=list(divided_review[0])[:100]\n",
        "positive_reviews=list(divided_review[1])[:100]"
      ],
      "execution_count": 130,
      "outputs": []
    },
    {
      "cell_type": "markdown",
      "metadata": {
        "id": "11pnD1SD-y8J"
      },
      "source": [
        "### DATA PREPROCESSING"
      ]
    },
    {
      "cell_type": "code",
      "metadata": {
        "id": "hPEahkzS-1za"
      },
      "source": [
        "def summary_datapreprocessing(data,length):\n",
        "  stop_words = set(stopwords.words('english'))\n",
        "  lemmatizer = nltk.stem.WordNetLemmatizer()\n",
        "  lancaster=LancasterStemmer()\n",
        "  processed_review = []\n",
        "  single_review = \"\"\n",
        "  reviews = df.review\n",
        "  for review in range(0,length):\n",
        "      single_review = data[review]\n",
        "      #removing html tags:\n",
        "      single_review = re.sub('<.*?>',' ',single_review)\n",
        "      #substituting multiple spaces with single space\n",
        "      single_review = re.sub('\\s+',' ', single_review)\n",
        "      #lower case\n",
        "      single_review=single_review.lower()\n",
        "      sentence_token=nltk.sent_tokenize(single_review)\n",
        "      temp=[]\n",
        "      for sentence in sentence_token:\n",
        "        if(len(sentence)>30):\n",
        "          temp.append(sentence)\n",
        "      processed_review.append(temp)\n",
        "   \n",
        "  \n",
        "  return processed_review"
      ],
      "execution_count": 131,
      "outputs": []
    },
    {
      "cell_type": "code",
      "metadata": {
        "id": "8LMZxNNiLMhC"
      },
      "source": [
        "processed_positive_reviews=summary_datapreprocessing(positive_reviews,len(positive_reviews))\n",
        "processed_negative_reviews=summary_datapreprocessing(negative_reviews,len(negative_reviews))"
      ],
      "execution_count": 132,
      "outputs": []
    },
    {
      "cell_type": "markdown",
      "metadata": {
        "id": "ckxRgq3LGhPH"
      },
      "source": [
        "## FINDING SUMMARY"
      ]
    },
    {
      "cell_type": "code",
      "metadata": {
        "id": "Lv9P0fTpMOnh"
      },
      "source": [
        "#flattening the 2d list to single list\n",
        "from itertools import chain\n",
        "processed_positive_reviews = list(chain.from_iterable(processed_positive_reviews))\n",
        "processed_negative_reviews = list(chain.from_iterable(processed_negative_reviews))"
      ],
      "execution_count": 133,
      "outputs": []
    },
    {
      "cell_type": "code",
      "metadata": {
        "id": "iMrw_AhtOZJ4",
        "colab": {
          "base_uri": "https://localhost:8080/"
        },
        "outputId": "93999d6f-f3a8-408c-f1ec-85533390086b"
      },
      "source": [
        "module_url = \"https://tfhub.dev/google/universal-sentence-encoder/4\" \n",
        "model = hub.load(module_url)"
      ],
      "execution_count": 134,
      "outputs": [
        {
          "output_type": "stream",
          "text": [
            "WARNING:tensorflow:5 out of the last 11 calls to <function recreate_function.<locals>.restored_function_body at 0x7f1a89e24560> triggered tf.function retracing. Tracing is expensive and the excessive number of tracings could be due to (1) creating @tf.function repeatedly in a loop, (2) passing tensors with different shapes, (3) passing Python objects instead of tensors. For (1), please define your @tf.function outside of the loop. For (2), @tf.function has experimental_relax_shapes=True option that relaxes argument shapes that can avoid unnecessary retracing. For (3), please refer to https://www.tensorflow.org/guide/function#controlling_retracing and https://www.tensorflow.org/api_docs/python/tf/function for  more details.\n"
          ],
          "name": "stdout"
        },
        {
          "output_type": "stream",
          "text": [
            "WARNING:tensorflow:5 out of the last 11 calls to <function recreate_function.<locals>.restored_function_body at 0x7f1a89e24560> triggered tf.function retracing. Tracing is expensive and the excessive number of tracings could be due to (1) creating @tf.function repeatedly in a loop, (2) passing tensors with different shapes, (3) passing Python objects instead of tensors. For (1), please define your @tf.function outside of the loop. For (2), @tf.function has experimental_relax_shapes=True option that relaxes argument shapes that can avoid unnecessary retracing. For (3), please refer to https://www.tensorflow.org/guide/function#controlling_retracing and https://www.tensorflow.org/api_docs/python/tf/function for  more details.\n"
          ],
          "name": "stderr"
        },
        {
          "output_type": "stream",
          "text": [
            "WARNING:tensorflow:6 out of the last 12 calls to <function recreate_function.<locals>.restored_function_body at 0x7f1a3ccf9290> triggered tf.function retracing. Tracing is expensive and the excessive number of tracings could be due to (1) creating @tf.function repeatedly in a loop, (2) passing tensors with different shapes, (3) passing Python objects instead of tensors. For (1), please define your @tf.function outside of the loop. For (2), @tf.function has experimental_relax_shapes=True option that relaxes argument shapes that can avoid unnecessary retracing. For (3), please refer to https://www.tensorflow.org/guide/function#controlling_retracing and https://www.tensorflow.org/api_docs/python/tf/function for  more details.\n"
          ],
          "name": "stdout"
        },
        {
          "output_type": "stream",
          "text": [
            "WARNING:tensorflow:6 out of the last 12 calls to <function recreate_function.<locals>.restored_function_body at 0x7f1a3ccf9290> triggered tf.function retracing. Tracing is expensive and the excessive number of tracings could be due to (1) creating @tf.function repeatedly in a loop, (2) passing tensors with different shapes, (3) passing Python objects instead of tensors. For (1), please define your @tf.function outside of the loop. For (2), @tf.function has experimental_relax_shapes=True option that relaxes argument shapes that can avoid unnecessary retracing. For (3), please refer to https://www.tensorflow.org/guide/function#controlling_retracing and https://www.tensorflow.org/api_docs/python/tf/function for  more details.\n"
          ],
          "name": "stderr"
        }
      ]
    },
    {
      "cell_type": "code",
      "metadata": {
        "colab": {
          "base_uri": "https://localhost:8080/"
        },
        "id": "VPB5C-jvOcfb",
        "outputId": "6c4fff9d-5ece-49a1-c84a-36ad7b00486e"
      },
      "source": [
        "sentence_embeddings = model(processed_positive_reviews)\n",
        "print(sentence_embeddings.shape)"
      ],
      "execution_count": 135,
      "outputs": [
        {
          "output_type": "stream",
          "text": [
            "WARNING:tensorflow:7 out of the last 13 calls to <function recreate_function.<locals>.restored_function_body at 0x7f1a891110e0> triggered tf.function retracing. Tracing is expensive and the excessive number of tracings could be due to (1) creating @tf.function repeatedly in a loop, (2) passing tensors with different shapes, (3) passing Python objects instead of tensors. For (1), please define your @tf.function outside of the loop. For (2), @tf.function has experimental_relax_shapes=True option that relaxes argument shapes that can avoid unnecessary retracing. For (3), please refer to https://www.tensorflow.org/guide/function#controlling_retracing and https://www.tensorflow.org/api_docs/python/tf/function for  more details.\n"
          ],
          "name": "stdout"
        },
        {
          "output_type": "stream",
          "text": [
            "WARNING:tensorflow:7 out of the last 13 calls to <function recreate_function.<locals>.restored_function_body at 0x7f1a891110e0> triggered tf.function retracing. Tracing is expensive and the excessive number of tracings could be due to (1) creating @tf.function repeatedly in a loop, (2) passing tensors with different shapes, (3) passing Python objects instead of tensors. For (1), please define your @tf.function outside of the loop. For (2), @tf.function has experimental_relax_shapes=True option that relaxes argument shapes that can avoid unnecessary retracing. For (3), please refer to https://www.tensorflow.org/guide/function#controlling_retracing and https://www.tensorflow.org/api_docs/python/tf/function for  more details.\n"
          ],
          "name": "stderr"
        },
        {
          "output_type": "stream",
          "text": [
            "(964, 512)\n"
          ],
          "name": "stdout"
        }
      ]
    },
    {
      "cell_type": "code",
      "metadata": {
        "id": "dzBpOqBCWUbO"
      },
      "source": [
        "from sklearn.metrics.pairwise import cosine_similarity\n",
        "def similarity(sentence_embeddings):\n",
        "  c_sim=cosine_similarity(sentence_embeddings,sentence_embeddings)\n",
        "  return c_sim"
      ],
      "execution_count": 136,
      "outputs": []
    },
    {
      "cell_type": "code",
      "metadata": {
        "id": "7Tmq0Po5CgK8"
      },
      "source": [
        "positive_similarity=similarity(sentence_embeddings)"
      ],
      "execution_count": 137,
      "outputs": []
    },
    {
      "cell_type": "code",
      "metadata": {
        "colab": {
          "base_uri": "https://localhost:8080/",
          "height": 300
        },
        "id": "wXjcL9dDWdsU",
        "outputId": "0dba4c99-eb76-483d-cf0b-d2bd3172e882"
      },
      "source": [
        "import seaborn as sns; \n",
        "sns.set_theme()\n",
        "sns.heatmap(positive_similarity)"
      ],
      "execution_count": 138,
      "outputs": [
        {
          "output_type": "execute_result",
          "data": {
            "text/plain": [
              "<matplotlib.axes._subplots.AxesSubplot at 0x7f1a4517ffd0>"
            ]
          },
          "metadata": {
            "tags": []
          },
          "execution_count": 138
        },
        {
          "output_type": "display_data",
          "data": {
            "image/png": "[encoded data removed]",
            "text/plain": [
              "<Figure size 432x288 with 2 Axes>"
            ]
          },
          "metadata": {
            "tags": []
          }
        }
      ]
    },
    {
      "cell_type": "code",
      "metadata": {
        "id": "PM9pA-RwXmNO"
      },
      "source": [
        "temp=np.logical_and(positive_similarity>=0 , positive_similarity<=0.5)\n",
        "positive_similarity=positive_similarity*temp"
      ],
      "execution_count": 139,
      "outputs": []
    },
    {
      "cell_type": "code",
      "metadata": {
        "id": "Qenw5GQRYlgl"
      },
      "source": [
        "def WGRA(graph):\n",
        "  rank=np.ones(len(graph))\n",
        "  new_rank=np.zeros(len(graph))\n",
        "  d=0.85\n",
        "  while True:\n",
        "    for i in range(len(graph)):\n",
        "      in_nodes=np.where(graph[i]!=0)[0]\n",
        "      new_rank[i]=0\n",
        "      for node in in_nodes:\n",
        "        numerator=rank[node]*graph[i,node]\n",
        "        denominator=np.sum(graph[node])\n",
        "        new_rank[i]+=numerator/denominator\n",
        "      new_rank[i]=1-d+d*new_rank[i]\n",
        "    temp=np.where(rank-new_rank<0.0001)[0]\n",
        "    if(len(temp)==len(graph)):\n",
        "      return new_rank\n",
        "    else:\n",
        "      rank=new_rank.copy()"
      ],
      "execution_count": 140,
      "outputs": []
    },
    {
      "cell_type": "code",
      "metadata": {
        "id": "kc5Ub81jEwvt"
      },
      "source": [
        "def final_summary(similarity_matrix,reviews):\n",
        "  ranks=WGRA(similarity_matrix)\n",
        "  sorted_reviews=sorted(zip(ranks,reviews),key=lambda x:x[0],reverse=True)\n",
        "  #print(sorted_reviews[:20])\n",
        "  final_reviews=[]\n",
        "  for review in sorted_reviews[:20]:\n",
        "    final_reviews.append(review[1])\n",
        "  #final_reviews=sorted_reviews[:20][1]\n",
        "  #indices=np.argpartition(ranks,-20)[-20:]\n",
        "  return final_reviews\n"
      ],
      "execution_count": 141,
      "outputs": []
    },
    {
      "cell_type": "code",
      "metadata": {
        "id": "XZPjr7RfNX0Q"
      },
      "source": [
        "from prettytable import PrettyTable\n",
        "def print_summary(summary):\n",
        "  for i,review_sentence in enumerate(summary):\n",
        "    print(i+1,review_sentence)"
      ],
      "execution_count": 142,
      "outputs": []
    },
    {
      "cell_type": "code",
      "metadata": {
        "id": "UQfn1i-diKQP",
        "colab": {
          "base_uri": "https://localhost:8080/"
        },
        "outputId": "80459c62-61f2-4ea9-8ef6-6ebd73860f8c"
      },
      "source": [
        "positive_final_review=final_summary(positive_similarity,processed_positive_reviews)\n",
        "print_summary(positive_final_review)"
      ],
      "execution_count": 143,
      "outputs": [
        {
          "output_type": "stream",
          "text": [
            "1 even though the film is based on a very romantisised level and not reality, i loved it a lot more than the usual biographys or costume drama's.\n",
            "2 this movie lacks the gravitas and scale to make it a great film, but it's a fine cheer-up on a rainy afternoon.\n",
            "3 i think a lot of the reason i liked the film so much is that the usual silly dietrich persona as the \"über-vamp\" isn't present and her role required her to actually act.\n",
            "4 the atmospherics and the romantic byplay are by far the best part of the movie, as viewers are likely to find the resolution a bit of a letdown -- there's just not that much to it (except a little frisson at the tail end that anticipates brian de palma's filmic codas).\n",
            "5 i was quite prepared to hate the film because of this casting decision, but it worked--she was pretty believable and a lot of fun to watch as well!\n",
            "6 while not exactly a great film, i do think it's one of the best films dietrich did and it's a shame it isn't more highly regarded.\n",
            "7 the reason i think this movie is fabulous is that it has so many layers of emotion.\n",
            "8 this film has a pretty interesting plot, well, a bit far-fetched perhaps, but very melodramatic (with tons of melodramatic music to make sure you get it) - all *greatly* enhanced by the strong, emotional performance given by kay francis - she just makes this film.\n",
            "9 in ways it was funny and dramatic, but that is what makes a movie.\n",
            "10 i feel that if everyone watched this film over and over they would understand it a lot more and maybe appreciate it for the fine piece of modern cinema that it is and i hope also that ritchie continues in this vain as i far prefer this to his mockney \"masterpieces\".\n",
            "11 there's an interesting blue-collar sleaze atmosphere to this movie, which makes it interesting (note the cock-fighting scene!).\n",
            "12 i would always highly recommend this film, despite not being the best hitchcock film, it's still a treasure.\n",
            "13 the script is the star of this film, and the word-smithing by aaron sorkin is some of the best on offer this year.\n",
            "14 if you haven't seen this movie and you enjoy a light-hearted, semi-mindless, comedy/love story, then i highly recommend renting \"the ladies' man\".\n",
            "15 ^^ i really enjoyed watching that... in addition, it's really funny... i think the actors did a great job... there's a lot of loving characters...and, aaron carter (jd) is not the exception... to be honest, in the first five minutes of see him act, i thought 'this will be awful'...but then , he surprised me really pleasingly... also, i gotta say that the music performances on the film are great!\n",
            "16 there's ways this could go wrong with the eastwood character, but malkovich possibly trumps some of his former villain counterparts by being extremely cool and un-collected (there's that devastating, cringe-worthy scene where he kills the bank teller and her roommate), and as his past is revealed, there's still that element of 'what the hell is with this guy' that keeps the audience and eastwood's agent guessing and extra paranoid.\n",
            "17 look past the cool and dazzling look of the film, try to listen to the dialogue rather than admire the performances and i think we will all get a more thorough understanding of the whole film.\n",
            "18 i probably wouldn't have watched the movie had i known its not a comedy but rather a drama, but i had good time, enjoyed the story and don't mind i spent about 90 minutes with it.\n",
            "19 this film is a fun little private eye detective story like they aren't made any more.\n",
            "20 it is a movie that deserves to be seen, appreciated, and enjoyed, a film that is rare and delicate, and it's not afraid to be classified as fun!\n"
          ],
          "name": "stdout"
        }
      ]
    },
    {
      "cell_type": "code",
      "metadata": {
        "id": "i_5nZhPyjeRv",
        "colab": {
          "base_uri": "https://localhost:8080/"
        },
        "outputId": "bbea1e2c-af02-4357-da64-bee729d8344c"
      },
      "source": [
        "sentence_embeddings_1 = model(processed_negative_reviews)\n",
        "print(sentence_embeddings_1.shape)"
      ],
      "execution_count": 144,
      "outputs": [
        {
          "output_type": "stream",
          "text": [
            "(1120, 512)\n"
          ],
          "name": "stdout"
        }
      ]
    },
    {
      "cell_type": "code",
      "metadata": {
        "id": "-g2igvipODqL"
      },
      "source": [
        "negative_similarity=similarity(sentence_embeddings_1)"
      ],
      "execution_count": 145,
      "outputs": []
    },
    {
      "cell_type": "code",
      "metadata": {
        "id": "ExnrZqIQOqLC"
      },
      "source": [
        "temp=np.logical_and(negative_similarity>=0 , negative_similarity<=0.5)\n",
        "negative_similarity=negative_similarity*temp"
      ],
      "execution_count": 146,
      "outputs": []
    },
    {
      "cell_type": "code",
      "metadata": {
        "id": "7g2SxdARGDvH",
        "colab": {
          "base_uri": "https://localhost:8080/"
        },
        "outputId": "40651e0a-30c7-4916-9c49-d3030669dcd3"
      },
      "source": [
        "final_negative_review=final_summary(negative_similarity,processed_negative_reviews)\n",
        "print_summary(final_negative_review)"
      ],
      "execution_count": 147,
      "outputs": [
        {
          "output_type": "stream",
          "text": [
            "1 well let me tell you something, the movie is not even scary in the least bit.\n",
            "2 if the most important part of the movie isn't even going to happen, at least make it enjoyable to watch and captivating.\n",
            "3 this was one of the worst films i can remember seeing.\n",
            "4 i wasn't really disappointed with that matter, but this movie is a matter indeed for me, poor plot, useless storyline, naively created and i don't know what to say anymore.\n",
            "5 i'm not saying there should be fighting and crap blowing up but it would liven up this more than bland film.\n",
            "6 easily one of the worst films ever made.\n",
            "7 jay chou's acting isn't exactly the most moving thing i've ever seen, but i certainly enjoyed the movie.\n",
            "8 the thing that really got me about this film was the stupid purile racism that was evident throughout.\n",
            "9 this scene was enjoyable but hardly made up for anything else that made this film dog spittle.\n",
            "10 the comedy portion of this film was just as boring as the tragedy and definitely never funny or even entertaining.\n",
            "11 i liked the movie, and don't care what dissenters say!\n",
            "12 felt like more of a chore to watch because i was hoping that there would be something in this movie that was going to set it apart from all the other garbage but this fit right in on the heap.\n",
            "13 well, it's nothin wrong with the blood and all that - doesn't even bother me - but that's not what makes a movie creepy!\n",
            "14 while the film does have the specific naschy-flick-charm, it sadly drags far too much and gets really, really dull in-between.\n",
            "15 sadly, even with a proper leading man this movie doesn't stand a chance for it is fatally burdened with both a totally inept director - whole scenes go nowhere and are poorly realized - and a screenplay that is utterly inferior, scattered and at times incoherent - not for a single moment do you care about anyone in this film, for the single fact that there is nothing in the way of character development!\n",
            "16 so really, there's only two things to watch this movie for: springsteen's stellar performance, and as a sad snapshot about a counter-culture in decline.\n",
            "17 it was absolutely horrible, poor,poor, pitiful acting, real real real stupid criminals that weren't even the least bit funny(unlike the first 2 home alone movies that were very good).\n",
            "18 this movie reeks of teeny bopper stuff and it made me sick.\n",
            "19 avoid..avoid...avoid this movie was straight to dvd for a reason...that being...it is a train wreck!!\n",
            "20 most predicable movie i've ever seen...extremely boring, i feel like i've seen a hundred movies with the same storyline as this one.\n"
          ],
          "name": "stdout"
        }
      ]
    },
    {
      "cell_type": "markdown",
      "metadata": {
        "id": "nkpjp-lpJocG"
      },
      "source": [
        "### LEX SUMMARY"
      ]
    },
    {
      "cell_type": "code",
      "metadata": {
        "colab": {
          "base_uri": "https://localhost:8080/"
        },
        "id": "U7dA5iLLJs_n",
        "outputId": "a6c4453f-6d18-4fce-beee-a8dbc8d994d0"
      },
      "source": [
        "!pip install sumy\n",
        "import sumy\n",
        "from sumy.parsers.plaintext import PlaintextParser\n",
        "from sumy.nlp.tokenizers import Tokenizer\n",
        "from sumy.summarizers.lex_rank import LexRankSummarizer\n",
        "positive_reviews=\" \".join(processed_positive_reviews)\n",
        "parser = PlaintextParser.from_string(positive_reviews,Tokenizer(\"english\"))\n",
        "summarizer = LexRankSummarizer()\n",
        "summary = summarizer(parser.document, 20)\n",
        "lex_summary=[]\n",
        "for sentence in summary:\n",
        " lex_summary.append(str(sentence))\n",
        "lex_summary"
      ],
      "execution_count": 148,
      "outputs": [
        {
          "output_type": "stream",
          "text": [
            "Collecting sumy\n",
            "\u001b[?25l  Downloading https://files.pythonhosted.org/packages/61/20/8abf92617ec80a2ebaec8dc1646a790fc9656a4a4377ddb9f0cc90bc9326/sumy-0.8.1-py2.py3-none-any.whl (83kB)\n",
            "\r\u001b[K     |████                            | 10kB 13.4MB/s eta 0:00:01\r\u001b[K     |███████▉                        | 20kB 18.8MB/s eta 0:00:01\r\u001b[K     |███████████▊                    | 30kB 12.5MB/s eta 0:00:01\r\u001b[K     |███████████████▋                | 40kB 13.3MB/s eta 0:00:01\r\u001b[K     |███████████████████▌            | 51kB 9.4MB/s eta 0:00:01\r\u001b[K     |███████████████████████▍        | 61kB 8.5MB/s eta 0:00:01\r\u001b[K     |███████████████████████████▍    | 71kB 9.5MB/s eta 0:00:01\r\u001b[K     |███████████████████████████████▎| 81kB 9.5MB/s eta 0:00:01\r\u001b[K     |████████████████████████████████| 92kB 5.2MB/s \n",
            "\u001b[?25hCollecting breadability>=0.1.20\n",
            "  Downloading https://files.pythonhosted.org/packages/ad/2d/bb6c9b381e6b6a432aa2ffa8f4afdb2204f1ff97cfcc0766a5b7683fec43/breadability-0.1.20.tar.gz\n",
            "Requirement already satisfied: docopt<0.7,>=0.6.1 in /usr/local/lib/python3.7/dist-packages (from sumy) (0.6.2)\n",
            "Requirement already satisfied: nltk>=3.0.2 in /usr/local/lib/python3.7/dist-packages (from sumy) (3.2.5)\n",
            "Requirement already satisfied: requests>=2.7.0 in /usr/local/lib/python3.7/dist-packages (from sumy) (2.23.0)\n",
            "Collecting pycountry>=18.2.23\n",
            "\u001b[?25l  Downloading https://files.pythonhosted.org/packages/76/73/6f1a412f14f68c273feea29a6ea9b9f1e268177d32e0e69ad6790d306312/pycountry-20.7.3.tar.gz (10.1MB)\n",
            "\u001b[K     |████████████████████████████████| 10.1MB 8.3MB/s \n",
            "\u001b[?25hRequirement already satisfied: chardet in /usr/local/lib/python3.7/dist-packages (from breadability>=0.1.20->sumy) (3.0.4)\n",
            "Requirement already satisfied: lxml>=2.0 in /usr/local/lib/python3.7/dist-packages (from breadability>=0.1.20->sumy) (4.2.6)\n",
            "Requirement already satisfied: six in /usr/local/lib/python3.7/dist-packages (from nltk>=3.0.2->sumy) (1.15.0)\n",
            "Requirement already satisfied: urllib3!=1.25.0,!=1.25.1,<1.26,>=1.21.1 in /usr/local/lib/python3.7/dist-packages (from requests>=2.7.0->sumy) (1.24.3)\n",
            "Requirement already satisfied: certifi>=2017.4.17 in /usr/local/lib/python3.7/dist-packages (from requests>=2.7.0->sumy) (2020.12.5)\n",
            "Requirement already satisfied: idna<3,>=2.5 in /usr/local/lib/python3.7/dist-packages (from requests>=2.7.0->sumy) (2.10)\n",
            "Building wheels for collected packages: breadability, pycountry\n",
            "  Building wheel for breadability (setup.py) ... \u001b[?25l\u001b[?25hdone\n",
            "  Created wheel for breadability: filename=breadability-0.1.20-py2.py3-none-any.whl size=21680 sha256=9a55af946e70f66f55705786e18b416fe6de2cacbc39271c9529551b9829dc66\n",
            "  Stored in directory: /root/.cache/pip/wheels/5a/4d/a1/510b12c5e65e0b2b3ce539b2af66da0fc57571e528924f4a52\n",
            "  Building wheel for pycountry (setup.py) ... \u001b[?25l\u001b[?25hdone\n",
            "  Created wheel for pycountry: filename=pycountry-20.7.3-py2.py3-none-any.whl size=10746863 sha256=a62acd27ac97f1fe9cc9c0a0057710967f2b62d1ff0b887125b2044f7ef5b894\n",
            "  Stored in directory: /root/.cache/pip/wheels/33/4e/a6/be297e6b83567e537bed9df4a93f8590ec01c1acfbcd405348\n",
            "Successfully built breadability pycountry\n",
            "Installing collected packages: breadability, pycountry, sumy\n",
            "Successfully installed breadability-0.1.20 pycountry-20.7.3 sumy-0.8.1\n"
          ],
          "name": "stdout"
        },
        {
          "output_type": "execute_result",
          "data": {
            "text/plain": [
              "['but here, she showed she really could act.',\n",
              " \"i first saw this film as a teenager (i'm now in my 40's), and have long considered it to be my favorite movie.\",\n",
              " 'there are a lot of people who like movies that are meant to just entertain you, and not get as much money as they can.',\n",
              " \"and if you've never seen tassle-twirling, you're in for a treat.\",\n",
              " 'i will say that i have have never ever cried so much in my life nor have gotten so much out of something.',\n",
              " 'that there is only one true thing and that is... love.',\n",
              " \"this is a good 70's action movie, if you can find it!!\",\n",
              " 'the film is long, but i did not look at my watch once.',\n",
              " 'this movie shows that mishima was a person, who witnessed the fall of japanese culture, which he was very fond of and with his final act he tried to save traditions and prove to himself that he is a real warrior, but he realized that as a person he was just a man with no power to change the events.',\n",
              " \"i know what most of people will think about this movie without even seen it... 'the typical movie from a famous singer... it will be a pink movie,a teenage film,it will be stupid...' and stuff like that... and yes, it is...i mean, it's a pink movie... but, you know what?...i loved it.\",\n",
              " 'i know that you\\'ve already entered this in film festivals (or at least i think you have, i may just be making that up) but i think this should get \"best animated short film\" in every one.',\n",
              " 'it is much better to actually tell the story exactly as it was so that everyone can learn what it was like!',\n",
              " \"but it's a lot of fun, and there are some fine performances.\",\n",
              " 'fame, i think, was the best movie that i have ever seen.',\n",
              " 'they all had a hard time, but made it their own way.',\n",
              " \"many funny scenes about the people that you don't normally pay attention to in a movie and what they have to do to get work and what happens once they do.\",\n",
              " \"later when hedge admits to rose that he's not what she and her parents think,a us marine raider,that he is rose had by then gotten to know the sweet and caring washed-out marine so well that it didn't matter to her at all what he was supposed to be, a marine a paratrooper or a post office worker, it was what was inside his heart that really counted.\",\n",
              " 'the one great feature- the music.',\n",
              " \"she's not bad in this, and she handles her role relatively deftly \\x96 it's just an awkward role for any actress, making the audience want to grab the character by her shoulders and shake her until she comes to her senses.\",\n",
              " 'there are some good numbers in here, not the best of any musical but they are melodic and good to listen to.']"
            ]
          },
          "metadata": {
            "tags": []
          },
          "execution_count": 148
        }
      ]
    },
    {
      "cell_type": "code",
      "metadata": {
        "colab": {
          "base_uri": "https://localhost:8080/"
        },
        "id": "pqvO_hjeRG9H",
        "outputId": "ba0575ce-205d-4be4-b6da-b723b5136ce8"
      },
      "source": [
        "print_summary(lex_summary)"
      ],
      "execution_count": 170,
      "outputs": [
        {
          "output_type": "stream",
          "text": [
            "1 but here, she showed she really could act.\n",
            "2 i first saw this film as a teenager (i'm now in my 40's), and have long considered it to be my favorite movie.\n",
            "3 there are a lot of people who like movies that are meant to just entertain you, and not get as much money as they can.\n",
            "4 and if you've never seen tassle-twirling, you're in for a treat.\n",
            "5 i will say that i have have never ever cried so much in my life nor have gotten so much out of something.\n",
            "6 that there is only one true thing and that is... love.\n",
            "7 this is a good 70's action movie, if you can find it!!\n",
            "8 the film is long, but i did not look at my watch once.\n",
            "9 this movie shows that mishima was a person, who witnessed the fall of japanese culture, which he was very fond of and with his final act he tried to save traditions and prove to himself that he is a real warrior, but he realized that as a person he was just a man with no power to change the events.\n",
            "10 i know what most of people will think about this movie without even seen it... 'the typical movie from a famous singer... it will be a pink movie,a teenage film,it will be stupid...' and stuff like that... and yes, it is...i mean, it's a pink movie... but, you know what?...i loved it.\n",
            "11 i know that you've already entered this in film festivals (or at least i think you have, i may just be making that up) but i think this should get \"best animated short film\" in every one.\n",
            "12 it is much better to actually tell the story exactly as it was so that everyone can learn what it was like!\n",
            "13 but it's a lot of fun, and there are some fine performances.\n",
            "14 fame, i think, was the best movie that i have ever seen.\n",
            "15 they all had a hard time, but made it their own way.\n",
            "16 many funny scenes about the people that you don't normally pay attention to in a movie and what they have to do to get work and what happens once they do.\n",
            "17 later when hedge admits to rose that he's not what she and her parents think,a us marine raider,that he is rose had by then gotten to know the sweet and caring washed-out marine so well that it didn't matter to her at all what he was supposed to be, a marine a paratrooper or a post office worker, it was what was inside his heart that really counted.\n",
            "18 the one great feature- the music.\n",
            "19 she's not bad in this, and she handles her role relatively deftly  it's just an awkward role for any actress, making the audience want to grab the character by her shoulders and shake her until she comes to her senses.\n",
            "20 there are some good numbers in here, not the best of any musical but they are melodic and good to listen to.\n"
          ],
          "name": "stdout"
        }
      ]
    },
    {
      "cell_type": "markdown",
      "metadata": {
        "id": "n16ctTQaXyRY"
      },
      "source": [
        "# Movie Review Scrapping"
      ]
    },
    {
      "cell_type": "code",
      "metadata": {
        "id": "cZKE8tl3X5kK"
      },
      "source": [
        "import requests\n",
        "from bs4 import BeautifulSoup\n",
        "import pandas as pd\n",
        "import numpy as np\n",
        "import itertools\n",
        "import requests\n",
        "import json\n",
        "import asyncio\n",
        "from urllib.request import urlopen,Request\n",
        "import ssl\n",
        "import csv\n",
        "movie_reviews_2=[]\n",
        "def review_scrape():\n",
        "  movie_reviews=[]\n",
        "  x=[1,2,3,4,7,8,9,10]\n",
        "  for each1 in x:\n",
        "    base_url='https://www.imdb.com/'\n",
        "    filter='reviews?spoiler=hide&sort=helpfulnessScore&dir=desc&ratingFilter='+str(each1)+''\n",
        "    movie_tags2=[['title/tt0468569/','The dark knight']]\n",
        "\n",
        "    for each in movie_tags2:\n",
        "      #name=each[1]\n",
        "      url=base_url+each[0]+filter\n",
        "      my_url = Request(url,headers={'User-Agent': 'Mozilla/5.0'})\n",
        "      url_client = urlopen(my_url)\n",
        "      page_html = url_client.read()\n",
        "      page_soup = soup(page_html, \"html.parser\")\n",
        "      s=page_soup.find('div',attrs={'class':'lister-list'}).findAll('div',attrs={'class','imdb-user-review'})\n",
        "      #print(s)\n",
        "      i=0\n",
        "      for each in s:\n",
        "        if i>=200:\n",
        "          break\n",
        "        i+=1\n",
        "        rev=each.find('div',attrs={'class':'text show-more__control'}).text\n",
        "        rev=str(rev)\n",
        "        #print(rev)\n",
        "        movie_reviews.append(rev)\n",
        "  i=0\n",
        "  for each in movie_reviews:\n",
        "    movie_reviews_2.append([i,each])\n",
        "    i+=1\n",
        "  return movie_reviews_2\n",
        "with open('mr_pos.csv', 'w') as file:\n",
        "    writer = csv.writer(file, quoting=csv.QUOTE_NONNUMERIC, delimiter=',')\n",
        "    writer.writerows(movie_reviews_2)"
      ],
      "execution_count": 149,
      "outputs": []
    },
    {
      "cell_type": "markdown",
      "metadata": {
        "id": "P3ETaO8XHxYt"
      },
      "source": [
        "# DARK NIGHT MOVIE SUMMARY"
      ]
    },
    {
      "cell_type": "markdown",
      "metadata": {
        "id": "CUnOl-X8H2or"
      },
      "source": [
        "## DOWNLOADING DATASET"
      ]
    },
    {
      "cell_type": "code",
      "metadata": {
        "id": "aHMnPZWEH6Kc"
      },
      "source": [
        "link='https://drive.google.com/file/d/1V7nzUX5WedI9hXbe6wcm-UitsIku9wZy/view?usp=sharing'"
      ],
      "execution_count": 150,
      "outputs": []
    },
    {
      "cell_type": "code",
      "metadata": {
        "id": "XriRYg88ILMo"
      },
      "source": [
        "id='1V7nzUX5WedI9hXbe6wcm-UitsIku9wZy'"
      ],
      "execution_count": 151,
      "outputs": []
    },
    {
      "cell_type": "code",
      "metadata": {
        "id": "ePDpzBYxJWRw"
      },
      "source": [
        "downloaded = drive.CreateFile({'id':id}) \n",
        "downloaded.GetContentFile('mr_pos.csv')  \n",
        "df = pd.read_csv('mr_pos.csv',names=['review'])"
      ],
      "execution_count": 152,
      "outputs": []
    },
    {
      "cell_type": "code",
      "metadata": {
        "colab": {
          "base_uri": "https://localhost:8080/",
          "height": 363
        },
        "id": "rhZkNE3QM03c",
        "outputId": "3657fd90-774a-42e6-8fd6-ae52b51f358d"
      },
      "source": [
        "df.head(10)"
      ],
      "execution_count": 153,
      "outputs": [
        {
          "output_type": "execute_result",
          "data": {
            "text/html": [
              "<div>\n",
              "<style scoped>\n",
              "    .dataframe tbody tr th:only-of-type {\n",
              "        vertical-align: middle;\n",
              "    }\n",
              "\n",
              "    .dataframe tbody tr th {\n",
              "        vertical-align: top;\n",
              "    }\n",
              "\n",
              "    .dataframe thead th {\n",
              "        text-align: right;\n",
              "    }\n",
              "</style>\n",
              "<table border=\"1\" class=\"dataframe\">\n",
              "  <thead>\n",
              "    <tr style=\"text-align: right;\">\n",
              "      <th></th>\n",
              "      <th>review</th>\n",
              "    </tr>\n",
              "  </thead>\n",
              "  <tbody>\n",
              "    <tr>\n",
              "      <th>0</th>\n",
              "      <td>Indulge me for a second here. Imagine that you...</td>\n",
              "    </tr>\n",
              "    <tr>\n",
              "      <th>1</th>\n",
              "      <td>Before walking into this movie , i really had ...</td>\n",
              "    </tr>\n",
              "    <tr>\n",
              "      <th>2</th>\n",
              "      <td>There is not really any reasonable explanation...</td>\n",
              "    </tr>\n",
              "    <tr>\n",
              "      <th>3</th>\n",
              "      <td>Okay, so they built a good villain in the Joke...</td>\n",
              "    </tr>\n",
              "    <tr>\n",
              "      <th>4</th>\n",
              "      <td>*Disclaimer -- may contain spoilers! *Sorry, p...</td>\n",
              "    </tr>\n",
              "    <tr>\n",
              "      <th>5</th>\n",
              "      <td>I hated this movie. The editing was awful. The...</td>\n",
              "    </tr>\n",
              "    <tr>\n",
              "      <th>6</th>\n",
              "      <td>As far as cinematographic masterpieces, this i...</td>\n",
              "    </tr>\n",
              "    <tr>\n",
              "      <th>7</th>\n",
              "      <td>Although suffering from a muddled plot, ill-de...</td>\n",
              "    </tr>\n",
              "    <tr>\n",
              "      <th>8</th>\n",
              "      <td>This movie is not even a Batman movie. It's ba...</td>\n",
              "    </tr>\n",
              "    <tr>\n",
              "      <th>9</th>\n",
              "      <td>Wait until you see the atrocity that is 'The D...</td>\n",
              "    </tr>\n",
              "  </tbody>\n",
              "</table>\n",
              "</div>"
            ],
            "text/plain": [
              "                                              review\n",
              "0  Indulge me for a second here. Imagine that you...\n",
              "1  Before walking into this movie , i really had ...\n",
              "2  There is not really any reasonable explanation...\n",
              "3  Okay, so they built a good villain in the Joke...\n",
              "4  *Disclaimer -- may contain spoilers! *Sorry, p...\n",
              "5  I hated this movie. The editing was awful. The...\n",
              "6  As far as cinematographic masterpieces, this i...\n",
              "7  Although suffering from a muddled plot, ill-de...\n",
              "8  This movie is not even a Batman movie. It's ba...\n",
              "9  Wait until you see the atrocity that is 'The D..."
            ]
          },
          "metadata": {
            "tags": []
          },
          "execution_count": 153
        }
      ]
    },
    {
      "cell_type": "code",
      "metadata": {
        "id": "eyuS8ZLrPDCD"
      },
      "source": [
        "darknight_reviews=np.array(df.review)\n",
        "dn_processed_review=datapreprocessing(darknight_reviews,darknight_reviews.shape[0])\n",
        "dn_vector_matrix=vectorize_test(tfidf,dn_processed_review)"
      ],
      "execution_count": 154,
      "outputs": []
    },
    {
      "cell_type": "code",
      "metadata": {
        "colab": {
          "base_uri": "https://localhost:8080/"
        },
        "id": "axUTks6pRGlv",
        "outputId": "11217de0-2e3f-40f4-cc9d-449df366ebe6"
      },
      "source": [
        "print(dn_vector_matrix.shape)"
      ],
      "execution_count": 155,
      "outputs": [
        {
          "output_type": "stream",
          "text": [
            "(200, 513677)\n"
          ],
          "name": "stdout"
        }
      ]
    },
    {
      "cell_type": "code",
      "metadata": {
        "id": "qIOviIKqRduF"
      },
      "source": [
        "dn_predicted_value = model_highest.predict(dn_vector_matrix)"
      ],
      "execution_count": 156,
      "outputs": []
    },
    {
      "cell_type": "code",
      "metadata": {
        "colab": {
          "base_uri": "https://localhost:8080/"
        },
        "id": "FnA260zPfgep",
        "outputId": "4bb7a09f-ed67-4864-d66b-d261870d9372"
      },
      "source": [
        "dn_predicted_value"
      ],
      "execution_count": 157,
      "outputs": [
        {
          "output_type": "execute_result",
          "data": {
            "text/plain": [
              "array([0, 0, 0, 0, 0, 0, 0, 0, 0, 0, 0, 0, 0, 0, 1, 0, 0, 1, 0, 0, 0, 0,\n",
              "       0, 0, 0, 0, 1, 1, 1, 0, 0, 0, 0, 0, 0, 0, 1, 0, 0, 0, 0, 0, 0, 1,\n",
              "       0, 0, 0, 0, 0, 0, 0, 0, 0, 1, 0, 1, 1, 0, 0, 0, 0, 0, 0, 0, 0, 0,\n",
              "       0, 0, 0, 0, 1, 0, 0, 0, 1, 0, 0, 1, 0, 0, 1, 1, 0, 0, 0, 0, 0, 0,\n",
              "       0, 0, 0, 1, 0, 0, 0, 0, 0, 0, 0, 0, 1, 0, 1, 0, 1, 1, 1, 0, 0, 1,\n",
              "       0, 1, 0, 1, 1, 0, 1, 0, 0, 1, 1, 1, 0, 0, 0, 1, 1, 1, 0, 1, 1, 1,\n",
              "       1, 1, 1, 1, 1, 1, 1, 1, 1, 1, 1, 0, 1, 1, 1, 1, 1, 1, 1, 0, 1, 1,\n",
              "       1, 1, 1, 1, 1, 1, 1, 1, 1, 1, 1, 1, 1, 1, 1, 1, 1, 1, 1, 1, 1, 1,\n",
              "       1, 1, 1, 1, 1, 1, 1, 1, 1, 1, 0, 1, 1, 1, 1, 1, 1, 1, 1, 1, 1, 1,\n",
              "       1, 1])"
            ]
          },
          "metadata": {
            "tags": []
          },
          "execution_count": 157
        }
      ]
    },
    {
      "cell_type": "code",
      "metadata": {
        "id": "Rubq-o91gMou"
      },
      "source": [
        "divided_review = [darknight_reviews[dn_predicted_value[:,]==k] for k in np.unique(dn_predicted_value[:,])]"
      ],
      "execution_count": 158,
      "outputs": []
    },
    {
      "cell_type": "code",
      "metadata": {
        "id": "6Pm8BjcLg2rQ"
      },
      "source": [
        "negative_reviews=list(divided_review[0])\n",
        "positive_reviews=list(divided_review[1])"
      ],
      "execution_count": 159,
      "outputs": []
    },
    {
      "cell_type": "code",
      "metadata": {
        "id": "zNLpL-IAfS0r"
      },
      "source": [
        "processed_positive_reviews_nf=summary_datapreprocessing(positive_reviews,len(positive_reviews))\n",
        "processed_negative_reviews_nf=summary_datapreprocessing(negative_reviews,len(negative_reviews))"
      ],
      "execution_count": 160,
      "outputs": []
    },
    {
      "cell_type": "code",
      "metadata": {
        "id": "c4XV62_1htSX"
      },
      "source": [
        "processed_positive_reviews = list(chain.from_iterable(processed_positive_reviews_nf))\n",
        "processed_negative_reviews = list(chain.from_iterable(processed_negative_reviews_nf))"
      ],
      "execution_count": 161,
      "outputs": []
    },
    {
      "cell_type": "code",
      "metadata": {
        "colab": {
          "base_uri": "https://localhost:8080/"
        },
        "id": "gP8LYylOhy1V",
        "outputId": "1f143c29-6094-4ab5-e639-c8371eb340ed"
      },
      "source": [
        "sentence_embeddings = model(processed_positive_reviews)\n",
        "print(sentence_embeddings.shape)"
      ],
      "execution_count": 162,
      "outputs": [
        {
          "output_type": "stream",
          "text": [
            "(679, 512)\n"
          ],
          "name": "stdout"
        }
      ]
    },
    {
      "cell_type": "code",
      "metadata": {
        "id": "TMY6aptOh9MZ"
      },
      "source": [
        "positive_similarity=similarity(sentence_embeddings)"
      ],
      "execution_count": 163,
      "outputs": []
    },
    {
      "cell_type": "code",
      "metadata": {
        "id": "m2WPP-cgiG6U"
      },
      "source": [
        "temp=np.logical_and(positive_similarity>=0 , positive_similarity<=0.5)\n",
        "positive_similarity=positive_similarity*temp"
      ],
      "execution_count": 164,
      "outputs": []
    },
    {
      "cell_type": "code",
      "metadata": {
        "id": "XhB7t9NyiNH8",
        "colab": {
          "base_uri": "https://localhost:8080/"
        },
        "outputId": "7993accd-2e6f-4ac5-a800-867e5095e4b2"
      },
      "source": [
        "positive_final_review=final_summary(positive_similarity,processed_positive_reviews)\n",
        "print_summary(positive_final_review)"
      ],
      "execution_count": 165,
      "outputs": [
        {
          "output_type": "stream",
          "text": [
            "1 compared to heath's other films like '10 things i hate about you' and even 'brokeback mountain' proves that this man could actually act, doesn't matter what character, he could do it.the film's storyline has many twists and all are rewarding, the story is developed constantly after each scene, making you wonder what's next.\n",
            "2 that's how difficult of a role this was, and that's why ledger's performance is so great.this isn't an action movie.\n",
            "3 many of the imdb top movies deal with the good old battle between good and evil and the world-weariness of the hero or anti-hero, but this film lands far short of the mark in both character and plot development, not to mention script, acting, screenplay or any of the other attributes of a movie that might be worthy of commendation.the purity of the comic book origins of this piece are thoroughly distorted and turned into an incoherent muddle - almost any james bond movie has a great deal more tension, humour, conviction and morality than this mess of a movie.\n",
            "4 it is very well made and gripping with some great performances, but personally i would put casablanca, wizard of oz, amadeus and it's a wonderful life over this.the film does suffer from being a little too talky, and the plot on occasions can be hard to follow due to a lot going on.\n",
            "5 this is a nolan movie this can't be bad for real, this is very good actually.\n",
            "6 in my opinion, the best part of christopher nolan's movies has always been his manipulation of time.\n",
            "7 i also have to compliment the nolan brothers for an obviously marvellous screenplay and great directing.\n",
            "8 the acting was superlative but i believe the story line very obnoxious in the way violence was portrayed and to treat the aaron eckhardt character the way that happened was against all the natural instincts of the film and story, the plot line got confusing in many ways, but i suppose it ended up the only way it could, i was pleased with all the characters, especially gary oldman and of course heath ledger, how he performed that role will always amaze me.the many harrowing experiences need parents to monitor what their children watch and counsel them on such savagery.my 3 was not for the acting which would have earned a 10 but the violence that was allowed to pursue 80 percent of the movie cause a right down to 3\n",
            "9 as well as tommy lee jones could have handled him in \"batman forever\", he certainly did not, though it still was a highlight of that movie.\n",
            "10 amazing acting and amazing cinematography and a very good screenplay but not as the movies that i counted.\n",
            "11 also the acting in the movie is surprisingly above average.\n",
            "12 i went with 3 friends and all of them slept the whole last hour.secondly, and probably the most important from my point of view, the plot is not surprising and of a quality you wouldn't expect from such an expensive movie.more, christian bale is not the same.\n",
            "13 honestly, i was very surprised that someone known for their niche productions would play such a good role as one of the most important characters in the batman series.\n",
            "14 but the film itself is something i'd have to be tied down to see again.so much of the accolades this film had seems based on heath ledger's death.\n",
            "15 also i don't like the way nolan tells the story but i must admit, thats a personal opinion.there were 2 surprising moments that i really loved, one containing a pencil which got me laughing very hard and the other the choice sequence which ended in a way i didn't see coming but loved it.all in all, an ok superhero movie, 7 stars but 9?\n",
            "16 to be honest this movie has the same plot-line played over and over again until its done till death, i liked the first new batman film more, although many people liked the pace, i thought it was actually very slow.\n",
            "17 i suppose knight is similar to the later spider man films, in which we're to solemnly consider the deep emotional conflicts presented to a post-pubescent boy who has been given superhuman powers.my friends, these are movies (and movie advocates) that take themselves way too seriously.\n",
            "18 it has some great action scenes, one of the best performances of all time and and a good script.\n",
            "19 health ledger's death had more of an impact on this movie's critical acclaim than anything in the actual movie.\n",
            "20 ledger deserves any and every movie award known to man for this brilliant display.nolan has made his \"i will always be remembered\" movie, this is the crownjewel in his portfolio.\n"
          ],
          "name": "stdout"
        }
      ]
    },
    {
      "cell_type": "code",
      "metadata": {
        "colab": {
          "base_uri": "https://localhost:8080/"
        },
        "id": "0HRB7abWiwDL",
        "outputId": "9a137c6c-c0c1-471a-ccb8-05491565d83c"
      },
      "source": [
        "sentence_embeddings_1 = model(processed_negative_reviews)\n",
        "print(sentence_embeddings_1.shape)"
      ],
      "execution_count": 166,
      "outputs": [
        {
          "output_type": "stream",
          "text": [
            "(1100, 512)\n"
          ],
          "name": "stdout"
        }
      ]
    },
    {
      "cell_type": "code",
      "metadata": {
        "id": "PGnTj90oi7Fz"
      },
      "source": [
        "negative_similarity=similarity(sentence_embeddings_1)"
      ],
      "execution_count": 167,
      "outputs": []
    },
    {
      "cell_type": "code",
      "metadata": {
        "id": "5NwccQXVjAnI"
      },
      "source": [
        "temp=np.logical_and(negative_similarity>=0 , negative_similarity<=0.5)\n",
        "negative_similarity=negative_similarity*temp"
      ],
      "execution_count": 168,
      "outputs": []
    },
    {
      "cell_type": "code",
      "metadata": {
        "id": "hrtwX1d4jFD1",
        "colab": {
          "base_uri": "https://localhost:8080/"
        },
        "outputId": "0f6fa881-a629-4a3e-fade-c15dde4d744b"
      },
      "source": [
        "negative_final_summary=final_summary(negative_similarity,processed_negative_reviews)\n",
        "print_summary(negative_final_summary)"
      ],
      "execution_count": 169,
      "outputs": [
        {
          "output_type": "stream",
          "text": [
            "1 i had to watch the original movie afterwards which has a plot, interesting characters and a batman that doesn't sound ridiculous every time he opens his mouth.\n",
            "2 i'm all for big surprises but this was just too unbelievable, and i'm saying that about a film that has a man dressing up as a giant bat!\n",
            "3 i dislike super-heroes (perhaps ..because i have a brain) however--lots of people love this kind of trash..heath ledger won an oscar for his ridiculous performance...he was actually an above average actor, but this whole pile of nonsense was just...very bad.\n",
            "4 and i could go on but you probably all agree but are too blinded by hype and the fact that ledgers dead to see that this is a pretty average film.\n",
            "5 it's hard to make out what's happening in the scenes set at night(and there's a lot of them).an ending which had godfather written all over it was brought out of thin air just to make us feel the film is indeed very dark and epic.\n",
            "6 it was just legitimately bad acting.some scenes drag on badly, as if christopher nolan doesn't trust you to understand what's going on without you getting beaten over the head with it.\n",
            "7 the script rambles, the characters come in and out of the film for no reason, no one does anything that makes any sense.\n",
            "8 however, sadly, the movie is depriving us of joker because there are only like 5 scenes with him.\n",
            "9 if you like stunts, hostage scenes and actors who take themselves a bit too seriously (not a poke at ledger, just everyone else) then by all means see this film.\n",
            "10 it was just another batman's movie and in my personal opinion a bad one.i spend 2 hours and a half of my life to see that crap and i'm trying to understand why all this enthusiasm?\n",
            "11 this film suffers from poor editing, poor pacing, needless scenes, glaring plot holes, far too many improbables, and relies on the viewer suspending their disbelief for so long that the viewer will be unable to believe anything outside of chris nolan's heat-inspired universe of batman.\n",
            "12 after one of the plot twists his acting just gets mediocre.all in all this movie would have been really good, i mean phenomenal if it weren't for all of the hype around it.\n",
            "13 it's not often i find a movie plain unwatchable, but that was the case with the dark knight.\n",
            "14 the film could have been a classic but it simply isn't good enough.\n",
            "15 that and the way he's made into two-face in this movie is totally wrong.\n",
            "16 compared to the wonderful scenes of gotham from the first movie though this is nothing to get excited about.\n",
            "17 somehow the movie doesn't manage to convince the audience of its own logic, probably cause there is none.all in all its a fun movie, with great performance by heath as the joker, however it is not the masterpiece people try to turn it into.\n",
            "18 i was just depressed.if this is the best film of 2008 then films have become a way to feed the worse of the human spirit.ooh, but it exciting, and ooh isn't the joker a real baddie.when you leave a film just plain bemused at how so many people can buy into this, i for one was definitely not entertained.if you love this then wow yippee....to me it's just ugliness, and really horrible vision of a world where the terrorists always win.and if you find that great entertainment, then what will top this, what more do you want next time?\n",
            "19 the general plot was boring and way too serious, bale's acting was horrible (he was much better in batman begins), and there was way too much dialogue.\n",
            "20 the bank robbery scene at the beginning comes across as genius, but as the movie goes along, the crimes get more and more far-fetched.\n"
          ],
          "name": "stdout"
        }
      ]
    }
  ]
}